{
 "cells": [
  {
   "cell_type": "code",
   "execution_count": 3,
   "metadata": {},
   "outputs": [],
   "source": [
    "import torch\n",
    "import torch.nn as nn\n",
    "import torchvision.models as models\n",
    "import numpy as np"
   ]
  },
  {
   "cell_type": "code",
   "execution_count": 4,
   "metadata": {},
   "outputs": [],
   "source": [
    "class NGLCM(nn.Module):\n",
    "    def __init__(self, dim, colors=16):\n",
    "        \"\"\"NGLCM layer implementation\n",
    "        \n",
    "        Parameters:\n",
    "            dim : int\n",
    "                Dimensions of image (dim * dim)\n",
    "            colors : int\n",
    "                Size of colors space\n",
    "        \"\"\"\n",
    "        \n",
    "        super(NGLCM, self).__init__()\n",
    "    \n",
    "        self.colors = colors - 1\n",
    "        \n",
    "        self.a = nn.Parameter(torch.zeros([colors, 1]))\n",
    "        nn.init.xavier_uniform_(self.a)\n",
    "        \n",
    "        self.b = nn.Parameter(torch.zeros([colors, 1]))\n",
    "        nn.init.xavier_uniform_(self.b)\n",
    "        \n",
    "    def forward(self, x):\n",
    "        a = x.view(x.shape[0], 1, -1) * self.colors\n",
    "        b = a - torch.cat((torch.zeros(x.shape[0], 1, 1, device=x.device), a[:, :, :-1]), 2)\n",
    "        return (torch.clamp(a - self.a, 0, 1)\n",
    "                    .matmul(torch.clamp(b - self.b, 0, 1).transpose(1, 2)))"
   ]
  },
  {
   "cell_type": "code",
   "execution_count": 2,
   "metadata": {},
   "outputs": [],
   "source": [
    "def test():\n",
    "\n",
    "    size = 224 # default for alexnet\n",
    "    from lib import datasets\n",
    "\n",
    "    nglcm = NGLCM(dim=224)\n",
    "\n",
    "    data = datasets.datasets()\n",
    "\n",
    "\n",
    "    data.create_dataset('mnist', img_size=size, data_aug=True)\n",
    "\n",
    "    batch_size = 10\n",
    "\n",
    "    batch_loader = data.batch_loader(batch_size)\n",
    "\n",
    "    img = None\n",
    "    label = None\n",
    "\n",
    "    for a, b in batch_loader['train']:\n",
    "        # a - batch_size x channels x img_size x img_size - data\n",
    "        # b - batch_size - labels\n",
    "        img = a\n",
    "        label = b\n",
    "        break\n",
    "    print(img.shape)\n",
    "    print(nglcm(img).shape)"
   ]
  },
  {
   "cell_type": "code",
   "execution_count": null,
   "metadata": {},
   "outputs": [],
   "source": []
  }
 ],
 "metadata": {
  "kernelspec": {
   "display_name": "Python 3",
   "language": "python",
   "name": "python3"
  },
  "language_info": {
   "codemirror_mode": {
    "name": "ipython",
    "version": 3
   },
   "file_extension": ".py",
   "mimetype": "text/x-python",
   "name": "python",
   "nbconvert_exporter": "python",
   "pygments_lexer": "ipython3",
   "version": "3.7.2"
  }
 },
 "nbformat": 4,
 "nbformat_minor": 2
}
