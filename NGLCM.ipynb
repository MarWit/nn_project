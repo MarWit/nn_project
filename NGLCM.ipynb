{
 "cells": [
  {
   "cell_type": "code",
   "execution_count": 14,
   "metadata": {},
   "outputs": [],
   "source": [
    "import torch\n",
    "import torch.nn as nn"
   ]
  },
  {
   "cell_type": "code",
   "execution_count": 43,
   "metadata": {},
   "outputs": [],
   "source": [
    "class NGLCM(nn.Module):\n",
    "    def __init__(self, dim, colors=16, offset=1):\n",
    "        \"\"\"NGLCM layer implementation\n",
    "        \n",
    "        Parameters:\n",
    "            dim : int\n",
    "                Dimensions of image (dim * dim)\n",
    "            colors : int\n",
    "                Size of colors space\n",
    "            \n",
    "        \"\"\"\n",
    "        \n",
    "        super(NGLCM, self).__init__()\n",
    "    \n",
    "        self.divide = 256 // 16\n",
    "        \n",
    "        self.a = nn.Parameter(torch.zeros([colors, 1]))\n",
    "        nn.init.xavier_uniform_(self.a)\n",
    "        \n",
    "        self.b = nn.Parameter(torch.zeros([colors, 1]))\n",
    "        nn.init.xavier_uniform_(self.b)\n",
    "        \n",
    "        self.cooc = torch.zeros([dim*dim, dim*dim])\n",
    "        for i in range(dim*dim):\n",
    "            self.cooc[i, i] = 1\n",
    "            if i + offset >= 0 and i + offset < dim*dim:\n",
    "                self.cooc[i, i + offset] = -1\n",
    "        \n",
    "    def forward(self, x):\n",
    "        a = x.view(1, -1)\n",
    "        b = a.mm(self.cooc)\n",
    "        \n",
    "        return torch.clamp(a - self.a, 0, 1).mm(torch.clamp(b - self.b, 0, 1).t())"
   ]
  },
  {
   "cell_type": "code",
   "execution_count": 44,
   "metadata": {},
   "outputs": [],
   "source": [
    "nglcm = NGLCM(16)"
   ]
  },
  {
   "cell_type": "code",
   "execution_count": null,
   "metadata": {},
   "outputs": [],
   "source": []
  }
 ],
 "metadata": {
  "kernelspec": {
   "display_name": "Python 3",
   "language": "python",
   "name": "python3"
  },
  "language_info": {
   "codemirror_mode": {
    "name": "ipython",
    "version": 3
   },
   "file_extension": ".py",
   "mimetype": "text/x-python",
   "name": "python",
   "nbconvert_exporter": "python",
   "pygments_lexer": "ipython3",
   "version": "3.7.2"
  }
 },
 "nbformat": 4,
 "nbformat_minor": 2
}
