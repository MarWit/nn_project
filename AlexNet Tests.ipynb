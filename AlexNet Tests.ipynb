{
 "cells": [
  {
   "cell_type": "code",
   "execution_count": 1,
   "metadata": {},
   "outputs": [
    {
     "name": "stdout",
     "output_type": "stream",
     "text": [
      "Populating the interactive namespace from numpy and matplotlib\n"
     ]
    }
   ],
   "source": [
    "import torch\n",
    "import torch.nn as nn\n",
    "import torch.optim as optim\n",
    "from torchvision.models import alexnet\n",
    "\n",
    "from lib.datasets import datasets\n",
    "from lib.utils import train, alex_classifier, pac_label_to_string, save_model, load_model, list_models, compute_error_rate\n",
    "\n",
    "cuda = torch.cuda.is_available()\n",
    "\n",
    "%pylab inline"
   ]
  },
  {
   "cell_type": "markdown",
   "metadata": {},
   "source": [
    "# PACS"
   ]
  },
  {
   "cell_type": "code",
   "execution_count": 2,
   "metadata": {},
   "outputs": [],
   "source": [
    "ds = datasets()\n",
    "ds.create_dataset('pacs', pacs='art_painting', pacs_heuristic=True)\n",
    "batch_loader = ds.batch_loader(256)\n",
    "\n",
    "epoch = 10"
   ]
  },
  {
   "cell_type": "code",
   "execution_count": null,
   "metadata": {
    "scrolled": true
   },
   "outputs": [],
   "source": [
    "net = alexnet(pretrained=True)\n",
    "\n",
    "# pick what to train\n",
    "\n",
    "for param in net.parameters():\n",
    "    param.requires_grad = False\n",
    "    \n",
    "net.classifier = alex_classifier(8)\n",
    "\n",
    "criterion = nn.NLLLoss()\n",
    "optimizer = optim.Adam(net.classifier.parameters(), lr=0.001)\n",
    "\n",
    "train(net, batch_loader, optimizer, criterion, num_epochs = epoch, cuda = cuda)\n",
    "save_model(net, 'pacs_art_painting')"
   ]
  },
  {
   "cell_type": "code",
   "execution_count": null,
   "metadata": {},
   "outputs": [],
   "source": [
    "ds.create_dataset('pacs', pacs='cartoon', pacs_heuristic=True)\n",
    "batch_loader = ds.batch_loader(256)\n",
    "\n",
    "net = alexnet(pretrained=True)\n",
    "\n",
    "for param in net.parameters():\n",
    "    param.requires_grad = False\n",
    "    \n",
    "net.classifier = alex_classifier(8)\n",
    "\n",
    "criterion = nn.NLLLoss()\n",
    "optimizer = optim.Adam(net.classifier.parameters(), lr=0.001)\n",
    "\n",
    "train(net, batch_loader, optimizer, criterion, num_epochs = epoch, cuda = cuda)\n",
    "save_model(net, 'pacs_cartoon')"
   ]
  },
  {
   "cell_type": "code",
   "execution_count": null,
   "metadata": {},
   "outputs": [],
   "source": [
    "ds.create_dataset('pacs', pacs='photo', pacs_heuristic=True)\n",
    "batch_loader = ds.batch_loader(256)\n",
    "\n",
    "net = alexnet(pretrained=True)\n",
    "\n",
    "for param in net.parameters():\n",
    "    param.requires_grad = False\n",
    "    \n",
    "net.classifier = alex_classifier(8)\n",
    "\n",
    "criterion = nn.NLLLoss()\n",
    "optimizer = optim.Adam(net.classifier.parameters(), lr=0.001)\n",
    "\n",
    "train(net, batch_loader, optimizer, criterion, num_epochs = epoch, cuda = cuda)\n",
    "save_model(net, 'pacs_photo')"
   ]
  },
  {
   "cell_type": "code",
   "execution_count": null,
   "metadata": {},
   "outputs": [],
   "source": [
    "ds.create_dataset('pacs', pacs='sketch', pacs_heuristic=True)\n",
    "batch_loader = ds.batch_loader(256)\n",
    "\n",
    "net = alexnet(pretrained=True)\n",
    "\n",
    "for param in net.parameters():\n",
    "    param.requires_grad = False\n",
    "    \n",
    "net.classifier = alex_classifier(8)\n",
    "\n",
    "criterion = nn.NLLLoss()\n",
    "optimizer = optim.Adam(net.classifier.parameters(), lr=0.001)\n",
    "\n",
    "train(net, batch_loader, optimizer, criterion, num_epochs = epoch, cuda = cuda)\n",
    "save_model(net, 'pacs_sketch')"
   ]
  },
  {
   "cell_type": "markdown",
   "metadata": {},
   "source": [
    "# TESTING PACS"
   ]
  },
  {
   "cell_type": "code",
   "execution_count": null,
   "metadata": {},
   "outputs": [],
   "source": [
    "\n",
    "e_sum = 0\n",
    "for name in ['art_painting', 'cartoon', 'photo', 'sketch']:\n",
    "    net = alexnet(pretrained=False)\n",
    "    load_model(net, 'pacs'name)\n",
    "    ds.create_dataset('pacs', pacs=name)\n",
    "    batch_loader = ds.batch_loader(256)\n",
    "    res = compute_error_rate(net, batch_loader, cuda)\n",
    "    print('PACS ', name, ' domain error rate: ', res)\n",
    "    e_sum += res\n",
    "\n",
    "print('avr error for all: ', e_sum / 4.0)"
   ]
  }
 ],
 "metadata": {
  "kernelspec": {
   "display_name": "Python 3",
   "language": "python",
   "name": "python3"
  },
  "language_info": {
   "codemirror_mode": {
    "name": "ipython",
    "version": 3
   },
   "file_extension": ".py",
   "mimetype": "text/x-python",
   "name": "python",
   "nbconvert_exporter": "python",
   "pygments_lexer": "ipython3",
   "version": "3.7.2"
  }
 },
 "nbformat": 4,
 "nbformat_minor": 2
}
