{
 "cells": [
  {
   "cell_type": "code",
   "execution_count": 1,
   "metadata": {},
   "outputs": [],
   "source": [
    "import torch\n",
    "import torch.nn as nn\n",
    "import torch.optim as optim\n",
    "from torchvision.models import alexnet\n",
    "\n",
    "from lib.datasets import datasets\n",
    "from lib.utils import train, alex_classifier, pac_label_to_string, save_model, load_model, list_models, compute_error_rate\n",
    "\n",
    "cuda = torch.cuda.is_available()\n",
    "\n",
    "%run HEX.ipynb"
   ]
  },
  {
   "cell_type": "markdown",
   "metadata": {},
   "source": [
    "# PACS"
   ]
  },
  {
   "cell_type": "code",
   "execution_count": null,
   "metadata": {},
   "outputs": [],
   "source": [
    "ds = datasets()\n",
    "ds.create_dataset('pacs', pacs='art_painting', pacs_heuristic=True)\n",
    "batch_loader = ds.batch_loader(256)\n",
    "\n",
    "epoch = 50\n",
    "log_every = 10"
   ]
  },
  {
   "cell_type": "code",
   "execution_count": null,
   "metadata": {},
   "outputs": [],
   "source": [
    "alex = alexnet(pretrained=False)\n",
    "alex.classifier = alex_classifier(8)\n",
    "load_model(alex, 'pacs_art_painting')\n",
    "\n",
    "\n",
    "for param in alex.features().parameters():\n",
    "    param.requires_grad = False\n",
    "\n",
    "hexnet = HEX(num_classes=8, alex_pretrained=False, load_alex = 'pacs_art_painting')\n",
    "\n",
    "\n",
    "criterion = nn.NLLLoss()\n",
    "optimizer = optim.Adam(net.classifier.parameters(), lr=0.001)\n",
    "\n",
    "train(net, batch_loader, optimizer, criterion, num_epochs = epoch, cuda = cuda, log_every = log_every)"
   ]
  },
  {
   "cell_type": "code",
   "execution_count": null,
   "metadata": {},
   "outputs": [],
   "source": [
    "save_model(net, 'HEX_art_painting')"
   ]
  }
 ],
 "metadata": {
  "kernelspec": {
   "display_name": "Python 3",
   "language": "python",
   "name": "python3"
  },
  "language_info": {
   "codemirror_mode": {
    "name": "ipython",
    "version": 3
   },
   "file_extension": ".py",
   "mimetype": "text/x-python",
   "name": "python",
   "nbconvert_exporter": "python",
   "pygments_lexer": "ipython3",
   "version": "3.7.2"
  }
 },
 "nbformat": 4,
 "nbformat_minor": 2
}
