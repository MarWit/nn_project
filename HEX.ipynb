{
 "cells": [
  {
   "cell_type": "code",
   "execution_count": 1,
   "metadata": {},
   "outputs": [
    {
     "name": "stdout",
     "output_type": "stream",
     "text": [
      "torch.Size([10, 1, 224, 224])\n"
     ]
    }
   ],
   "source": [
    "import torch\n",
    "import torch.nn as nn\n",
    "import torchvision.models as models\n",
    "from lib.utils import to_grayscale\n",
    "\n",
    "%run NGLCM.ipynb"
   ]
  },
  {
   "cell_type": "code",
   "execution_count": 2,
   "metadata": {},
   "outputs": [],
   "source": [
    "class HEX(nn.Module):\n",
    "    def __init__(self, dim, num_classes=1000, colors=16):\n",
    "        super(HEX, self).__init__()\n",
    "        \n",
    "        self.nglcm = nn.Sequential(\n",
    "            NGLCM(dim, colors),\n",
    "            nn.Linear(in_features=colors, out_features=dim, bias=True),\n",
    "            nn.ReLU(inplace=True)\n",
    "        )\n",
    "        \n",
    "        self.cnn = models.alexnet(pretrained=True)\n",
    "        self.cnn.classifier = nn.Sequential(\n",
    "            nn.Dropout(p=0.5),\n",
    "            nn.Linear(in_features=9216, out_features=4096, bias=True),\n",
    "            nn.ReLU(inplace=True),\n",
    "            nn.Dropout(p=0.5),\n",
    "            nn.Linear(in_features=4096, out_features=4096, bias=True),\n",
    "            nn.ReLU(inplace=True)\n",
    "        )\n",
    "        \n",
    "        self.classifier = nn.Linear(in_features=4096 + dim * colors, out_features=num_classes, bias=True)\n",
    "        \n",
    "    def forward(self, x):\n",
    "        with torch.no_grad():\n",
    "            x_gray = to_grayscale(x)\n",
    "            \n",
    "        nglcm = self.nglcm.forward(x_gray)\n",
    "        nglcm = nglcm.view(x.shape[0], -1)\n",
    "        cnn = self.cnn.forward(x)\n",
    "\n",
    "        FA = self.classifier(torch.cat((cnn, nglcm), 1))\n",
    "        FG = self.classifier(torch.cat((torch.zeros(*cnn.shape), nglcm), 1))\n",
    "        FGT = FG.t()\n",
    "        \n",
    "        return (torch.eye(x.shape[0]) - FG.mm(FGT.mm(FG).inverse()).mm(FGT)).mm(FA)"
   ]
  },
  {
   "cell_type": "code",
   "execution_count": 3,
   "metadata": {},
   "outputs": [],
   "source": [
    "Hex = HEX(224, num_classes=8)"
   ]
  },
  {
   "cell_type": "code",
   "execution_count": 4,
   "metadata": {},
   "outputs": [
    {
     "name": "stdout",
     "output_type": "stream",
     "text": [
      "torch.Size([64, 3, 224, 224])\n"
     ]
    }
   ],
   "source": [
    "from lib.datasets import datasets\n",
    "\n",
    "data = datasets()\n",
    "data.create_dataset('pacs', img_size=224, data_aug=True)\n",
    "batch_loader = data.batch_loader(64)\n",
    "\n",
    "img = None\n",
    "label = None\n",
    "\n",
    "for a, b in batch_loader['train']:\n",
    "    # a - batch_size x channels x img_size x img_size - data\n",
    "    # b - batch_size - labels\n",
    "    img = a\n",
    "    label = b\n",
    "    break\n",
    "    \n",
    "print(img.shape)"
   ]
  },
  {
   "cell_type": "code",
   "execution_count": 5,
   "metadata": {},
   "outputs": [
    {
     "data": {
      "text/plain": [
       "torch.Size([64, 8])"
      ]
     },
     "execution_count": 5,
     "metadata": {},
     "output_type": "execute_result"
    }
   ],
   "source": [
    "Hex(img).shape"
   ]
  }
 ],
 "metadata": {
  "kernelspec": {
   "display_name": "Python 3",
   "language": "python",
   "name": "python3"
  },
  "language_info": {
   "codemirror_mode": {
    "name": "ipython",
    "version": 3
   },
   "file_extension": ".py",
   "mimetype": "text/x-python",
   "name": "python",
   "nbconvert_exporter": "python",
   "pygments_lexer": "ipython3",
   "version": "3.7.2"
  }
 },
 "nbformat": 4,
 "nbformat_minor": 2
}
